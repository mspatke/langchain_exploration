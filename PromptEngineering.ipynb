{
  "nbformat": 4,
  "nbformat_minor": 0,
  "metadata": {
    "colab": {
      "provenance": [],
      "gpuType": "T4",
      "authorship_tag": "ABX9TyMmX2z65hlkvSoQlCf9RbpS",
      "include_colab_link": true
    },
    "kernelspec": {
      "name": "python3",
      "display_name": "Python 3"
    },
    "language_info": {
      "name": "python"
    },
    "accelerator": "GPU"
  },
  "cells": [
    {
      "cell_type": "markdown",
      "metadata": {
        "id": "view-in-github",
        "colab_type": "text"
      },
      "source": [
        "<a href=\"https://colab.research.google.com/github/mspatke/langchain_exploration/blob/main/PromptEngineering.ipynb\" target=\"_parent\"><img src=\"https://colab.research.google.com/assets/colab-badge.svg\" alt=\"Open In Colab\"/></a>"
      ]
    },
    {
      "cell_type": "code",
      "execution_count": 14,
      "metadata": {
        "id": "r3xtTACGDu6t"
      },
      "outputs": [],
      "source": [
        "# !pip install -U -r requirement.txt"
      ]
    },
    {
      "cell_type": "code",
      "source": [
        "import os\n",
        "os.environ[\"OPENAI_API_KEY\"] ="
      ],
      "metadata": {
        "id": "g0_89qnHEtrY"
      },
      "execution_count": 8,
      "outputs": []
    },
    {
      "cell_type": "code",
      "source": [
        "###Prompt Engineering Langchain\n",
        "\n",
        "import langchain_openai as llm\n",
        "from langchain_openai import OpenAI\n",
        "\n",
        "import warnings\n",
        "warnings.filterwarnings('ignore')"
      ],
      "metadata": {
        "id": "6RKp5vTMFNPz"
      },
      "execution_count": 24,
      "outputs": []
    },
    {
      "cell_type": "code",
      "source": [
        "from tempfile import template\n",
        "from langchain import PromptTemplate\n",
        "\n",
        "# here we have created only prompt\n",
        "demo_template = ''' I want you to act as financial advisor for people. In an easy way, explain the basics of {financial_concept}.'''\n",
        "\n",
        "\n",
        "prompt = PromptTemplate(\n",
        "              input_variables = ['financial_concept'],\n",
        "              template = demo_template\n",
        "          )\n",
        "\n",
        "prompt.format(financial_concept= 'income tax')"
      ],
      "metadata": {
        "colab": {
          "base_uri": "https://localhost:8080/",
          "height": 37
        },
        "id": "KWBnqQEVFSjG",
        "outputId": "6043421e-1c1c-46cc-b0ab-e6c5a1452506"
      },
      "execution_count": 18,
      "outputs": [
        {
          "output_type": "execute_result",
          "data": {
            "text/plain": [
              "' I want you to act as financial advisor for people. In an easy way, explain the basics of income tax.'"
            ],
            "application/vnd.google.colaboratory.intrinsic+json": {
              "type": "string"
            }
          },
          "metadata": {},
          "execution_count": 18
        }
      ]
    },
    {
      "cell_type": "code",
      "source": [
        "## here will intialise llm model\n",
        "\n",
        "\n",
        "from langchain_openai import OpenAI\n",
        "from langchain.chains import LLMChain\n",
        "\n",
        "# loaded openai model here\n",
        "llm = OpenAI(temperature= 0.7)\n",
        "\n",
        "#created llmchain\n",
        "chain1 = LLMChain(llm=llm , prompt= prompt)\n",
        "\n"
      ],
      "metadata": {
        "id": "ugllkRlnF0_W"
      },
      "execution_count": 34,
      "outputs": []
    },
    {
      "cell_type": "code",
      "source": [
        "chain1.run('GDP')"
      ],
      "metadata": {
        "colab": {
          "base_uri": "https://localhost:8080/",
          "height": 130
        },
        "id": "mNIJzcdWICgQ",
        "outputId": "99791066-83ad-406b-ef6d-7ab53a321633"
      },
      "execution_count": 25,
      "outputs": [
        {
          "output_type": "execute_result",
          "data": {
            "text/plain": [
              "\"\\nSure, I would be happy to explain the basics of GDP as a financial advisor.\\n\\nGDP stands for Gross Domestic Product and it is a measure of the total value of all goods and services produced within a country's borders in a specific time period (usually a year). It is often used as an indicator of a country's economic health and growth.\\n\\nThere are two main ways to calculate GDP: the expenditure approach and the income approach. The expenditure approach adds up all the money spent on goods and services by consumers, businesses, and the government. The income approach adds up all the income earned by individuals and businesses through wages, profits, and taxes.\\n\\nGDP can be broken down into different components, such as consumer spending, business investment, government spending, and net exports (exports - imports). These components can give us a better understanding of which sectors of the economy are driving growth or experiencing challenges.\\n\\nIt's important to note that GDP does not measure the overall well-being of a country or its people. It is simply a measure of economic output. For example, a country could have a high GDP but also high levels of income inequality and poverty.\\n\\nAs a financial advisor, it's important to keep an eye on GDP trends as it can impact investments and financial decisions. A\""
            ],
            "application/vnd.google.colaboratory.intrinsic+json": {
              "type": "string"
            }
          },
          "metadata": {},
          "execution_count": 25
        }
      ]
    },
    {
      "cell_type": "code",
      "source": [
        "chain1.run('How to file ITR in india?')"
      ],
      "metadata": {
        "colab": {
          "base_uri": "https://localhost:8080/",
          "height": 130
        },
        "id": "pzUQVZlRII0U",
        "outputId": "bb568279-9780-4dc3-c9a6-3f48eeb12c7c"
      },
      "execution_count": 26,
      "outputs": [
        {
          "output_type": "execute_result",
          "data": {
            "text/plain": [
              "\"\\n\\nSure, I'd be happy to explain the basics of how to file income tax return (ITR) in India.\\n\\n1. Determine your tax filing status: The first step is to determine your tax filing status. This can be either individual, business, or any other applicable category.\\n\\n2. Gather all necessary documents: Once you know your tax filing status, gather all the necessary documents such as your PAN card, Aadhaar card, bank statements, Form 16 (if you are a salaried individual), and any other relevant financial documents.\\n\\n3. Choose the correct ITR form: Based on your tax filing status and sources of income, choose the appropriate ITR form. There are seven different types of ITR forms, so make sure you select the correct one to avoid any errors or delays.\\n\\n4. Calculate your taxable income: To file your ITR, you need to know your taxable income. This can be done by calculating your total income from all sources and deducting any applicable deductions and exemptions.\\n\\n5. File your ITR: Once you have all the necessary documents and have calculated your taxable income, you can file your ITR. This can be done online through the Income Tax Department's e-filing portal or offline by submitting a physical copy of\""
            ],
            "application/vnd.google.colaboratory.intrinsic+json": {
              "type": "string"
            }
          },
          "metadata": {},
          "execution_count": 26
        }
      ]
    },
    {
      "cell_type": "code",
      "source": [],
      "metadata": {
        "id": "1bL88MxxJRCD"
      },
      "execution_count": null,
      "outputs": []
    },
    {
      "cell_type": "markdown",
      "source": [
        "# Language Transalation"
      ],
      "metadata": {
        "id": "1aTGHNLkJe-E"
      }
    },
    {
      "cell_type": "code",
      "source": [
        "template_2 = ''' In an easy way translate the following sentence '{sentence}' into {target_language}'''\n",
        "\n",
        "langauge_prompt = PromptTemplate(\n",
        "                    input_variables= ['sentence', 'target_language'] ,\n",
        "                    template = template_2 ,)\n",
        "\n",
        "#langauge_prompt.format(sentence = 'How are you?' , target_language = 'Hindi')\n",
        "\n",
        "chain2 = LLMChain(llm= llm , prompt = langauge_prompt)"
      ],
      "metadata": {
        "id": "rU_XTbzWJjOC"
      },
      "execution_count": 35,
      "outputs": []
    },
    {
      "cell_type": "code",
      "source": [
        "chain2({'sentence':'hello, where are you going?' , 'target_language': 'hindi'})"
      ],
      "metadata": {
        "colab": {
          "base_uri": "https://localhost:8080/"
        },
        "id": "6uX38f4QKcxT",
        "outputId": "40554fa7-b77a-43bb-be94-30d4abe50247"
      },
      "execution_count": 37,
      "outputs": [
        {
          "output_type": "execute_result",
          "data": {
            "text/plain": [
              "{'sentence': 'hello, where are you going?',\n",
              " 'target_language': 'hindi',\n",
              " 'text': '\\n\"नमस्ते, आप कहाँ जा रहे हैं?\" (Namaste, aap kahan ja rahe hain?)'}"
            ]
          },
          "metadata": {},
          "execution_count": 37
        }
      ]
    },
    {
      "cell_type": "code",
      "source": [
        "chain2({'sentence': 'I know i will wing it', 'target_language':'Hindi'})"
      ],
      "metadata": {
        "colab": {
          "base_uri": "https://localhost:8080/"
        },
        "id": "W_irty7LK6rC",
        "outputId": "f63df97f-6476-488a-8a3b-dc68efeb3453"
      },
      "execution_count": 38,
      "outputs": [
        {
          "output_type": "execute_result",
          "data": {
            "text/plain": [
              "{'sentence': 'I know i will wing it',\n",
              " 'target_language': 'Hindi',\n",
              " 'text': '\\n\\nमुझे मालूम है कि मैं इसे ठीक कर लूंगा। (Mujhe maalum hai ki main ise theek kar loonga.)'}"
            ]
          },
          "metadata": {},
          "execution_count": 38
        }
      ]
    },
    {
      "cell_type": "code",
      "source": [
        "chain2({'sentence': 'I know i will wing it', 'target_language':'French'})"
      ],
      "metadata": {
        "colab": {
          "base_uri": "https://localhost:8080/"
        },
        "id": "Ua-zxA3zMWTE",
        "outputId": "91bcfe74-8498-4abe-d0a9-f56b68a79d46"
      },
      "execution_count": 39,
      "outputs": [
        {
          "output_type": "execute_result",
          "data": {
            "text/plain": [
              "{'sentence': 'I know i will wing it',\n",
              " 'target_language': 'French',\n",
              " 'text': \" 'Je sais que je vais improviser'\"}"
            ]
          },
          "metadata": {},
          "execution_count": 39
        }
      ]
    },
    {
      "cell_type": "code",
      "source": [],
      "metadata": {
        "id": "Sd-eYtP7Md-S"
      },
      "execution_count": 39,
      "outputs": []
    },
    {
      "cell_type": "markdown",
      "source": [
        "# Few short prompt template"
      ],
      "metadata": {
        "id": "5Z88KeZyMjSL"
      }
    },
    {
      "cell_type": "code",
      "source": [
        "from langchain import PromptTemplate, FewShotPromptTemplate\n",
        "\n",
        "### first create examples\n",
        "\n",
        "examples = [ {'word': 'Happy', 'antonym': 'sad'},\n",
        "             {'word': 'tall', 'antonym': 'short'}]\n",
        "\n",
        "\n",
        "## next, specify template to format the examples we have provided, use prompt_template class for this\n",
        "\n",
        "example_formatter_template = ''' Word : {word} \\n Antonym : {antonym}\n",
        "                            '''\n",
        "\n",
        "example_prompt = PromptTemplate( input_variables= ['word', 'antonym'],\n",
        "                                template = example_formatter_template)"
      ],
      "metadata": {
        "id": "7zBwUGeAMoVy"
      },
      "execution_count": 46,
      "outputs": []
    },
    {
      "cell_type": "code",
      "source": [
        "few_shot_prompt = FewShotPromptTemplate(\n",
        "\n",
        "    #These are examples we want to insert into prompt\n",
        "    examples = examples,\n",
        "\n",
        "    #This is how we want to format the example when we insert them into prompt\n",
        "    example_prompt = example_prompt,\n",
        "\n",
        "    # the prefix is some text that goes before the examples in the prompt, usually this consists of instructions\n",
        "    prefix = 'Give the antonym of every input \\n',\n",
        "\n",
        "    #suffix is some text that goes after the examples in the prompt, usually this is where the user input will go\n",
        "    suffix= ' Word : {input} \\n Antonym' ,\n",
        "\n",
        "    # input_variables are the variables in overall prompt\n",
        "    input_variables= ['input'],\n",
        "\n",
        "    #The example_separator is the string we will use to join the prefix, examples, and suffix together with.\n",
        "    example_separator = '\\n'\n",
        "\n",
        "    )"
      ],
      "metadata": {
        "id": "II08HBTFNzAt"
      },
      "execution_count": 47,
      "outputs": []
    },
    {
      "cell_type": "code",
      "source": [
        "# just check the format of few_short_prompt\n",
        "print(few_shot_prompt.format(input='big'))"
      ],
      "metadata": {
        "colab": {
          "base_uri": "https://localhost:8080/"
        },
        "id": "FuAeEXFUP0Fj",
        "outputId": "99acdc59-462a-4ad8-96d8-33c645285369"
      },
      "execution_count": 48,
      "outputs": [
        {
          "output_type": "stream",
          "name": "stdout",
          "text": [
            "Give the antonym of every input \n",
            "\n",
            " Word : Happy \n",
            " Antonym : sad \n",
            "                            \n",
            " Word : tall \n",
            " Antonym : short \n",
            "                            \n",
            " Word : big \n",
            " Antonym\n"
          ]
        }
      ]
    },
    {
      "cell_type": "code",
      "source": [
        "chain3 = LLMChain(llm = llm , prompt = few_shot_prompt)\n",
        "\n",
        "chain3({'input':'big'})"
      ],
      "metadata": {
        "colab": {
          "base_uri": "https://localhost:8080/"
        },
        "id": "JREIRkkTQMBg",
        "outputId": "7a115d5a-c9c8-41b7-84bc-01a100e142aa"
      },
      "execution_count": 49,
      "outputs": [
        {
          "output_type": "execute_result",
          "data": {
            "text/plain": [
              "{'input': 'big', 'text': ' : small'}"
            ]
          },
          "metadata": {},
          "execution_count": 49
        }
      ]
    },
    {
      "cell_type": "code",
      "source": [],
      "metadata": {
        "id": "ChLoUYxAQ02N"
      },
      "execution_count": null,
      "outputs": []
    }
  ]
}