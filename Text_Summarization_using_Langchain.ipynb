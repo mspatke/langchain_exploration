{
  "nbformat": 4,
  "nbformat_minor": 0,
  "metadata": {
    "colab": {
      "provenance": [],
      "gpuType": "T4",
      "authorship_tag": "ABX9TyMvVFOFMFXlhMqJLM2FBlws",
      "include_colab_link": true
    },
    "kernelspec": {
      "name": "python3",
      "display_name": "Python 3"
    },
    "language_info": {
      "name": "python"
    },
    "accelerator": "GPU"
  },
  "cells": [
    {
      "cell_type": "markdown",
      "metadata": {
        "id": "view-in-github",
        "colab_type": "text"
      },
      "source": [
        "<a href=\"https://colab.research.google.com/github/mspatke/langchain_exploration/blob/main/Text_Summarization_using_Langchain.ipynb\" target=\"_parent\"><img src=\"https://colab.research.google.com/assets/colab-badge.svg\" alt=\"Open In Colab\"/></a>"
      ]
    },
    {
      "cell_type": "code",
      "execution_count": 12,
      "metadata": {
        "id": "6Q0w8m4qHzVc"
      },
      "outputs": [],
      "source": [
        "# # !pip install -r requirement.txt\n",
        "# !pip install tiktoken"
      ]
    },
    {
      "cell_type": "code",
      "source": [
        "import os\n",
        "os.environ[\"OPENAI_API_KEY\"] ="
      ],
      "metadata": {
        "id": "KFRkEwnIIM7F"
      },
      "execution_count": 5,
      "outputs": []
    },
    {
      "cell_type": "markdown",
      "source": [
        "## 1. Basic prompt summarization"
      ],
      "metadata": {
        "id": "oSW0-_aQLOhL"
      }
    },
    {
      "cell_type": "code",
      "source": [
        "from langchain.chat_models import ChatOpenAI\n",
        "from langchain.schema import (AIMessage , HumanMessage , SystemMessage)"
      ],
      "metadata": {
        "id": "k8YWke3QKzB5"
      },
      "execution_count": 6,
      "outputs": []
    },
    {
      "cell_type": "code",
      "source": [
        "speech=\"\"\"\n",
        "People across the country, involved in government, political, and social activities, are dedicating their time to make the ‘Viksit Bharat Sankalp Yatra’ (Developed India Resolution Journey) successful. Therefore, as a Member of Parliament, it was my responsibility to also contribute my time to this program. So, today, I have come here just as a Member of Parliament and your ‘sevak’, ready to participate in this program, much like you.\n",
        "\n",
        "In our country, governments have come and gone, numerous schemes have been formulated, discussions have taken place, and big promises have been made. However, my experience and observations led me to believe that the most critical aspect that requires attention is ensuring that the government’s plans reach the intended beneficiaries without any hassles. If there is a ‘Pradhan Mantri Awas Yojana’ (Prime Minister’s housing scheme), then those who are living in jhuggis and slums should get their houses. And he should not need to make rounds of the government offices for this purpose. The government should reach him. Since you have assigned this responsibility to me, about four crore families have got their ‘pucca’ houses. However, I have encountered cases where someone is left out of the government benefits. Therefore, I have decided to tour the country again, to listen to people’s experiences with government schemes, to understand whether they received the intended benefits, and to ensure that the programs are reaching everyone as planned without paying any bribes. We will get the real picture if we visit them again. Therefore, this ‘Viksit Bharat Sankalp Yatra’ is, in a way, my own examination. I want to hear from you and the people across the country whether what I envisioned and the work I have been doing aligns with reality and whether it has reached those for whom it was meant.\n",
        "\n",
        "It is crucial to check whether the work that was supposed to happen has indeed taken place. I recently met some individuals who utilized the Ayushman card to get treatment for serious illnesses. One person met with a severe accident, and after using the card, he could afford the necessary operation, and now he is recovering well. When I asked him, he said: “How could I afford this treatment? Now that there is the Ayushman card, I mustered courage and underwent an operation. Now I am perfectly fine.”  Such stories are blessings to me.\n",
        "\n",
        "The bureaucrats, who prepare good schemes, expedite the paperwork and even allocate funds, also feel satisfied that 50 or 100 people who were supposed to get the funds have got it. The funds meant for a thousand villages have been released. But their job satisfaction peaks when they hear that their work has directly impacted someone’s life positively. When they see the tangible results of their efforts, their enthusiasm multiplies. They feel satisfied. Therefore, ‘Viksit Bharat Sankalp Yatra’ has had a positive impact on government officers. It has made them more enthusiastic about their work, especially when they witness the tangible benefits reaching the people. Officers now feel satisfied with their work, saying, “I made a good plan, I created a file, and the intended beneficiaries received the benefits.” When they find that the money has reached a poor widow under the Jeevan Jyoti scheme and it was a great help to her during her crisis, they realise that they have done a good job. When a government officer listens to such stories, he feels very satisfied.\n",
        "\n",
        "There are very few who understand the power and impact of the ‘Viksit Bharat Sankalp Yatra’. When I hear people connected to bureaucratic circles talking about it, expressing their satisfaction, it resonates with me. I’ve heard stories where someone suddenly received 2 lakh rupees after the death of her husband, and a sister mentioned how the arrival of gas in her home transformed her lives. The most significant aspect is when someone says that the line between rich and poor has vanished. While the slogan ‘Garibi Hatao’ (Remove Poverty) is one thing, but the real change happens when a person says, “As soon as the gas stove came to my house, the distinction between poverty and affluence disappeared.\n",
        "\"\"\""
      ],
      "metadata": {
        "id": "leAB7HzvLo5B"
      },
      "execution_count": 7,
      "outputs": []
    },
    {
      "cell_type": "code",
      "source": [
        "chat_message = [\n",
        "    SystemMessage(content = 'You are an expert assistant with expertize in summarizing speech'),\n",
        "     HumanMessage(content=f'Please provide a short and concise summary of the following speech:\\n TEXT: {speech}')\n",
        "]\n",
        "\n",
        "\n",
        "llm= ChatOpenAI(model_name='gpt-3.5-turbo')"
      ],
      "metadata": {
        "id": "IP6_EHl_LquW"
      },
      "execution_count": 9,
      "outputs": []
    },
    {
      "cell_type": "code",
      "source": [
        "llm.get_num_tokens(speech)"
      ],
      "metadata": {
        "colab": {
          "base_uri": "https://localhost:8080/"
        },
        "id": "joJKJv8fL-sQ",
        "outputId": "8f4fcab4-3794-443c-dd26-31e9e30b50fc"
      },
      "execution_count": 13,
      "outputs": [
        {
          "output_type": "execute_result",
          "data": {
            "text/plain": [
              "866"
            ]
          },
          "metadata": {},
          "execution_count": 13
        }
      ]
    },
    {
      "cell_type": "code",
      "source": [
        "llm(chat_message).content"
      ],
      "metadata": {
        "colab": {
          "base_uri": "https://localhost:8080/",
          "height": 110
        },
        "id": "_MaoO-6KMKYV",
        "outputId": "5e8d7fbf-babf-4112-a49a-ec0810906ffd"
      },
      "execution_count": 18,
      "outputs": [
        {
          "output_type": "execute_result",
          "data": {
            "text/plain": [
              "\"Summary:\\nThe speaker, a Member of Parliament, is actively participating in the 'Viksit Bharat Sankalp Yatra' to ensure government schemes reach intended beneficiaries smoothly. They emphasize the importance of programs benefiting people directly without bureaucratic hurdles. The Yatra aims to assess the impact of government initiatives firsthand and ensure effective delivery of services. The speaker highlights positive stories of individuals benefiting from schemes like Ayushman card, showcasing the tangible impact on people's lives. They stress the satisfaction felt by bureaucrats when their efforts directly help people. The Yatra is credited with boosting enthusiasm among government officials and bridging the gap between rich and poor through impactful schemes.\""
            ],
            "application/vnd.google.colaboratory.intrinsic+json": {
              "type": "string"
            }
          },
          "metadata": {},
          "execution_count": 18
        }
      ]
    },
    {
      "cell_type": "markdown",
      "source": [
        "## 2. Prompt Templates Text Summarization"
      ],
      "metadata": {
        "id": "Kdf1egjIMtG0"
      }
    },
    {
      "cell_type": "code",
      "source": [
        "from langchain.chains import LLMChain\n",
        "from langchain import PromptTemplate"
      ],
      "metadata": {
        "id": "KITlpHJZMVqF"
      },
      "execution_count": 19,
      "outputs": []
    },
    {
      "cell_type": "code",
      "source": [
        "generic_template = \"\"\"\n",
        "                    Write a summary of the following speech:\n",
        "                    Speech : '{speech}'\n",
        "                    Translate the precise summary to {language}.\n",
        "                   \"\"\"\n",
        "\n",
        "prompt= PromptTemplate(\n",
        "    input_variables = ['speech', 'language'],\n",
        "    template = generic_template\n",
        ")"
      ],
      "metadata": {
        "id": "IL9HNllIM9ZF"
      },
      "execution_count": 21,
      "outputs": []
    },
    {
      "cell_type": "code",
      "source": [
        "prompt.format(speech = speech , language = 'Hindi')"
      ],
      "metadata": {
        "colab": {
          "base_uri": "https://localhost:8080/",
          "height": 130
        },
        "id": "-FI7YsrxNhtW",
        "outputId": "ea01435d-bead-4933-cb94-e6294be827b9"
      },
      "execution_count": 25,
      "outputs": [
        {
          "output_type": "execute_result",
          "data": {
            "text/plain": [
              "\" \\n                    Write a summary of the following speech:\\n                    Speech : '\\nPeople across the country, involved in government, political, and social activities, are dedicating their time to make the ‘Viksit Bharat Sankalp Yatra’ (Developed India Resolution Journey) successful. Therefore, as a Member of Parliament, it was my responsibility to also contribute my time to this program. So, today, I have come here just as a Member of Parliament and your ‘sevak’, ready to participate in this program, much like you.\\n\\nIn our country, governments have come and gone, numerous schemes have been formulated, discussions have taken place, and big promises have been made. However, my experience and observations led me to believe that the most critical aspect that requires attention is ensuring that the government’s plans reach the intended beneficiaries without any hassles. If there is a ‘Pradhan Mantri Awas Yojana’ (Prime Minister’s housing scheme), then those who are living in jhuggis and slums should get their houses. And he should not need to make rounds of the government offices for this purpose. The government should reach him. Since you have assigned this responsibility to me, about four crore families have got their ‘pucca’ houses. However, I have encountered cases where someone is left out of the government benefits. Therefore, I have decided to tour the country again, to listen to people’s experiences with government schemes, to understand whether they received the intended benefits, and to ensure that the programs are reaching everyone as planned without paying any bribes. We will get the real picture if we visit them again. Therefore, this ‘Viksit Bharat Sankalp Yatra’ is, in a way, my own examination. I want to hear from you and the people across the country whether what I envisioned and the work I have been doing aligns with reality and whether it has reached those for whom it was meant.\\n\\nIt is crucial to check whether the work that was supposed to happen has indeed taken place. I recently met some individuals who utilized the Ayushman card to get treatment for serious illnesses. One person met with a severe accident, and after using the card, he could afford the necessary operation, and now he is recovering well. When I asked him, he said: “How could I afford this treatment? Now that there is the Ayushman card, I mustered courage and underwent an operation. Now I am perfectly fine.”  Such stories are blessings to me.\\n\\nThe bureaucrats, who prepare good schemes, expedite the paperwork and even allocate funds, also feel satisfied that 50 or 100 people who were supposed to get the funds have got it. The funds meant for a thousand villages have been released. But their job satisfaction peaks when they hear that their work has directly impacted someone’s life positively. When they see the tangible results of their efforts, their enthusiasm multiplies. They feel satisfied. Therefore, ‘Viksit Bharat Sankalp Yatra’ has had a positive impact on government officers. It has made them more enthusiastic about their work, especially when they witness the tangible benefits reaching the people. Officers now feel satisfied with their work, saying, “I made a good plan, I created a file, and the intended beneficiaries received the benefits.” When they find that the money has reached a poor widow under the Jeevan Jyoti scheme and it was a great help to her during her crisis, they realise that they have done a good job. When a government officer listens to such stories, he feels very satisfied.\\n\\nThere are very few who understand the power and impact of the ‘Viksit Bharat Sankalp Yatra’. When I hear people connected to bureaucratic circles talking about it, expressing their satisfaction, it resonates with me. I’ve heard stories where someone suddenly received 2 lakh rupees after the death of her husband, and a sister mentioned how the arrival of gas in her home transformed her lives. The most significant aspect is when someone says that the line between rich and poor has vanished. While the slogan ‘Garibi Hatao’ (Remove Poverty) is one thing, but the real change happens when a person says, “As soon as the gas stove came to my house, the distinction between poverty and affluence disappeared.\\n'\\n                    Translate the precise summary to Hindi.\\n                   \""
            ],
            "application/vnd.google.colaboratory.intrinsic+json": {
              "type": "string"
            }
          },
          "metadata": {},
          "execution_count": 25
        }
      ]
    },
    {
      "cell_type": "code",
      "source": [
        "complete_prompt=prompt.format(speech=speech,language='Hindi')"
      ],
      "metadata": {
        "id": "KITEAmuxNz2z"
      },
      "execution_count": 26,
      "outputs": []
    },
    {
      "cell_type": "code",
      "source": [
        "llm.get_num_tokens(complete_prompt)"
      ],
      "metadata": {
        "colab": {
          "base_uri": "https://localhost:8080/"
        },
        "id": "qFAiJAhxN-oj",
        "outputId": "dad5752b-0d5e-467a-a3de-4dada4e6935f"
      },
      "execution_count": 27,
      "outputs": [
        {
          "output_type": "execute_result",
          "data": {
            "text/plain": [
              "889"
            ]
          },
          "metadata": {},
          "execution_count": 27
        }
      ]
    },
    {
      "cell_type": "code",
      "source": [
        "llm_chain = LLMChain(llm=llm , prompt=prompt)\n",
        "summary =llm_chain.run({'speech':speech , 'language':'hindi'})"
      ],
      "metadata": {
        "id": "e1ykPpRWOC7V"
      },
      "execution_count": 28,
      "outputs": []
    },
    {
      "cell_type": "code",
      "source": [
        "summary"
      ],
      "metadata": {
        "colab": {
          "base_uri": "https://localhost:8080/",
          "height": 112
        },
        "id": "3nnozgFvOUJU",
        "outputId": "13632d05-f4d8-4573-baab-37b88fd100dd"
      },
      "execution_count": 29,
      "outputs": [
        {
          "output_type": "execute_result",
          "data": {
            "text/plain": [
              "'भारत विकसित संकल्प यात्रा को सफल बनाने के लिए लोग सरकार, राजनीतिक और सामाजिक गतिविधियों में संलग्न हैं। सांसद के रूप में, मेरा भी इस कार्यक्रम में समय देना मेरी जिम्मेदारी थी। सरकारों ने अनेक योजनाएं बनाई हैं, वाद-विवाद हुए हैं, और बड़े वादे किए हैं। मेरे अनुभव और अवलोकन ने मुझे यह महसूस कराया कि सरकार की योजनाएं वास्तविक लाभार्थियों तक बिना किसी परेशानी के पहुंचना जरूरी है। मेरे द्वारा निर्धारित जिम्मेदारी के कारण लगभग चार करोड़ परिवारों को उनके \\'पक्के\\' मकान मिल चुके हैं। लेकिन मुझे वहाँ कुछ मामले भी मिले हैं जहाँ किसी को सरकारी लाभ की छूट मिली है। इसलिए, मैं फिर से देश की यात्रा करने का निर्णय लिया है, लोगों के साथ सरकारी योजनाओं के अनुभव सुनने के लिए, समझने के लिए कि क्या वे इच्छित लाभ प्राप्त कर रहे हैं, और सुनिश्चित करने के लिए कि कार्यक्रम जैसा है जैसा योजना बनाई गई थी। यह \\'विकसित भारत संकल्प यात्रा\\' मेरी अपनी परीक्षा है। मैं आपसे और पूरे देश की जनता से सुनना चाहता हूं कि मेरी कल्पना और मैंने किया गया कार्य वास्तविकता के साथ मेल खाता है या नहीं। यह महत्वपूर्ण है कि कार्य हुआ या नहीं हुआ है। जब किसी को अपने पति की मौत के बाद अचानक 2 लाख रुपये मिलते हैं, और एक बहन कहती है कि उनके घर में गैस का आगमन उनके जीवन को बदल देता है, तो सबसे महत्वपूर्ण है जब कोई कहता है कि गरीबी और समृद्धि के बीच की रेखा गायब हो गई है। ब्यूरोक्रेट्स, जो अच्छी योजनाएं तैयार करते हैं, कागजात तेजी से पूरा करते हैं, और धन का आवंटन भी करते हैं, उन्हें भी संतुष्टि मिलती है जब वे सुनते हैं कि उनका काम सीधे किसी के जीवन पर सकारात्मक प्रभाव डालता है। वे संतुष्ट हो जाते हैं। \\'विकसित भारत संकल्प यात्रा\\' ने सरकारी अधिकारियों पर सकारात्मक प्रभाव डाला है। यह उन्हें उनके काम के प्रति अधिक उत्साही बना देता है, विशेष रूप से जब उन्हें देखने को मिलता है कि प्राकृतिक लाभ प्राप्त हो रहा है। अधिकारियों को अब उनके काम से संतुष्टि होती है, कहते हुए, \"मैंने एक अच्छी योजना बनाई, मैंने एक फ़ाइल बनाई, और इच्छित लाभार्थियों को लाभ पहुँचाया।\" जब कोई सरकारी अधिकारी ऐसी कहानियाँ सुनता है, तो उसे बहुत संतुष्टि मिलती है।'"
            ],
            "application/vnd.google.colaboratory.intrinsic+json": {
              "type": "string"
            }
          },
          "metadata": {},
          "execution_count": 29
        }
      ]
    },
    {
      "cell_type": "code",
      "source": [],
      "metadata": {
        "id": "GI_6v_OrOVaP"
      },
      "execution_count": null,
      "outputs": []
    }
  ]
}